{
 "cells": [
  {
   "cell_type": "code",
   "execution_count": 1,
   "id": "5db93ab0-e1a4-4b90-b8cd-9859826d717c",
   "metadata": {},
   "outputs": [],
   "source": [
    "import pandas as pd \n",
    "import numpy as np \n",
    "import tensorflow as tf \n",
    "import keras\n",
    "from sklearn.metrics import mean_squared_error\n",
    "import math \n",
    "from statistics import mean\n",
    "import matplotlib.pyplot as plt \n",
    "from tensorflow.keras.models import load_model"
   ]
  },
  {
   "cell_type": "code",
   "execution_count": 2,
   "id": "ad2a106c-2cd2-4e5d-8f14-b73ef568d762",
   "metadata": {},
   "outputs": [],
   "source": [
    "from keras.models import Sequential\n",
    "from keras.src.models import *\n",
    "from keras.src.layers import*\n",
    "from keras.src.callbacks import ModelCheckpoint\n",
    "from keras.src.losses import MeanSquaredError\n",
    "from keras.src.metrics import RootMeanSquaredError\n",
    "from keras.src.optimizers import *"
   ]
  },
  {
   "cell_type": "code",
   "execution_count": 3,
   "id": "bb3c2305-5563-41b5-afd4-660604eb97cb",
   "metadata": {},
   "outputs": [
    {
     "data": {
      "text/html": [
       "<div>\n",
       "<style scoped>\n",
       "    .dataframe tbody tr th:only-of-type {\n",
       "        vertical-align: middle;\n",
       "    }\n",
       "\n",
       "    .dataframe tbody tr th {\n",
       "        vertical-align: top;\n",
       "    }\n",
       "\n",
       "    .dataframe thead th {\n",
       "        text-align: right;\n",
       "    }\n",
       "</style>\n",
       "<table border=\"1\" class=\"dataframe\">\n",
       "  <thead>\n",
       "    <tr style=\"text-align: right;\">\n",
       "      <th></th>\n",
       "      <th>Unemployment_Rate_percent</th>\n",
       "      <th>Exports_in_Billions_USD</th>\n",
       "      <th>Exports_%_of_GDP</th>\n",
       "      <th>FDI_Inflows</th>\n",
       "      <th>FDI_%_change</th>\n",
       "      <th>GDP_in_Billions_of_USD</th>\n",
       "      <th>GDP_per_capita</th>\n",
       "      <th>GDP__Annual_%_Change</th>\n",
       "      <th>GDP_Growth_%</th>\n",
       "      <th>GNI_in_Billions_of_USD</th>\n",
       "      <th>...</th>\n",
       "      <th>GNI_Growth_Rate</th>\n",
       "      <th>Hunger_stats_%_of_Population</th>\n",
       "      <th>Imports_in_Billions_of_USD</th>\n",
       "      <th>Imports_%_of_GDP</th>\n",
       "      <th>Inflation_Rate_%</th>\n",
       "      <th>Life_Expectancy_from_Birth_Years</th>\n",
       "      <th>Percent_Under_Pay</th>\n",
       "      <th>Tourism_Spending_in_USD</th>\n",
       "      <th>Tourism_%_of_Exports</th>\n",
       "      <th>Trade_%_of_GDP</th>\n",
       "    </tr>\n",
       "    <tr>\n",
       "      <th>date</th>\n",
       "      <th></th>\n",
       "      <th></th>\n",
       "      <th></th>\n",
       "      <th></th>\n",
       "      <th></th>\n",
       "      <th></th>\n",
       "      <th></th>\n",
       "      <th></th>\n",
       "      <th></th>\n",
       "      <th></th>\n",
       "      <th></th>\n",
       "      <th></th>\n",
       "      <th></th>\n",
       "      <th></th>\n",
       "      <th></th>\n",
       "      <th></th>\n",
       "      <th></th>\n",
       "      <th></th>\n",
       "      <th></th>\n",
       "      <th></th>\n",
       "      <th></th>\n",
       "    </tr>\n",
       "  </thead>\n",
       "  <tbody>\n",
       "    <tr>\n",
       "      <th>1991-12-31</th>\n",
       "      <td>6.838</td>\n",
       "      <td>22.943398</td>\n",
       "      <td>8.4942</td>\n",
       "      <td>0.073538</td>\n",
       "      <td>0.0272</td>\n",
       "      <td>270.105342</td>\n",
       "      <td>303.8504</td>\n",
       "      <td>1.0568</td>\n",
       "      <td>1.0568</td>\n",
       "      <td>308.580780</td>\n",
       "      <td>...</td>\n",
       "      <td>0.8649</td>\n",
       "      <td>0.0</td>\n",
       "      <td>22.941359</td>\n",
       "      <td>8.4935</td>\n",
       "      <td>13.8702</td>\n",
       "      <td>58.148</td>\n",
       "      <td>0.0</td>\n",
       "      <td>0</td>\n",
       "      <td>0.0</td>\n",
       "      <td>16.9877</td>\n",
       "    </tr>\n",
       "    <tr>\n",
       "      <th>1992-12-31</th>\n",
       "      <td>6.838</td>\n",
       "      <td>25.486029</td>\n",
       "      <td>8.8429</td>\n",
       "      <td>0.276512</td>\n",
       "      <td>0.0959</td>\n",
       "      <td>288.208070</td>\n",
       "      <td>317.5587</td>\n",
       "      <td>5.4824</td>\n",
       "      <td>5.4824</td>\n",
       "      <td>312.509695</td>\n",
       "      <td>...</td>\n",
       "      <td>5.4977</td>\n",
       "      <td>0.0</td>\n",
       "      <td>27.639650</td>\n",
       "      <td>9.5902</td>\n",
       "      <td>11.7878</td>\n",
       "      <td>58.634</td>\n",
       "      <td>0.0</td>\n",
       "      <td>0</td>\n",
       "      <td>0.0</td>\n",
       "      <td>18.4331</td>\n",
       "    </tr>\n",
       "    <tr>\n",
       "      <th>1993-12-31</th>\n",
       "      <td>6.838</td>\n",
       "      <td>27.466541</td>\n",
       "      <td>9.8342</td>\n",
       "      <td>0.550370</td>\n",
       "      <td>0.1971</td>\n",
       "      <td>279.295649</td>\n",
       "      <td>301.5008</td>\n",
       "      <td>4.7508</td>\n",
       "      <td>4.7508</td>\n",
       "      <td>300.632783</td>\n",
       "      <td>...</td>\n",
       "      <td>4.8423</td>\n",
       "      <td>0.0</td>\n",
       "      <td>27.419354</td>\n",
       "      <td>9.8173</td>\n",
       "      <td>6.3269</td>\n",
       "      <td>59.120</td>\n",
       "      <td>96.7</td>\n",
       "      <td>0</td>\n",
       "      <td>0.0</td>\n",
       "      <td>19.6515</td>\n",
       "    </tr>\n",
       "    <tr>\n",
       "      <th>1994-12-31</th>\n",
       "      <td>6.830</td>\n",
       "      <td>32.361288</td>\n",
       "      <td>9.8881</td>\n",
       "      <td>0.973271</td>\n",
       "      <td>0.2974</td>\n",
       "      <td>327.275583</td>\n",
       "      <td>346.2274</td>\n",
       "      <td>6.6589</td>\n",
       "      <td>6.6589</td>\n",
       "      <td>322.746134</td>\n",
       "      <td>...</td>\n",
       "      <td>6.7921</td>\n",
       "      <td>0.0</td>\n",
       "      <td>33.349577</td>\n",
       "      <td>10.1901</td>\n",
       "      <td>10.2479</td>\n",
       "      <td>59.590</td>\n",
       "      <td>0.0</td>\n",
       "      <td>0</td>\n",
       "      <td>0.0</td>\n",
       "      <td>20.0781</td>\n",
       "    </tr>\n",
       "    <tr>\n",
       "      <th>1995-12-31</th>\n",
       "      <td>6.998</td>\n",
       "      <td>39.068855</td>\n",
       "      <td>10.8440</td>\n",
       "      <td>2.143628</td>\n",
       "      <td>0.5950</td>\n",
       "      <td>360.281910</td>\n",
       "      <td>373.6282</td>\n",
       "      <td>7.5745</td>\n",
       "      <td>7.5745</td>\n",
       "      <td>354.316510</td>\n",
       "      <td>...</td>\n",
       "      <td>7.7676</td>\n",
       "      <td>0.0</td>\n",
       "      <td>43.318426</td>\n",
       "      <td>12.0235</td>\n",
       "      <td>10.2249</td>\n",
       "      <td>60.060</td>\n",
       "      <td>0.0</td>\n",
       "      <td>0</td>\n",
       "      <td>0.0</td>\n",
       "      <td>22.8674</td>\n",
       "    </tr>\n",
       "  </tbody>\n",
       "</table>\n",
       "<p>5 rows × 21 columns</p>\n",
       "</div>"
      ],
      "text/plain": [
       "            Unemployment_Rate_percent  Exports_in_Billions_USD  \\\n",
       "date                                                             \n",
       "1991-12-31                      6.838                22.943398   \n",
       "1992-12-31                      6.838                25.486029   \n",
       "1993-12-31                      6.838                27.466541   \n",
       "1994-12-31                      6.830                32.361288   \n",
       "1995-12-31                      6.998                39.068855   \n",
       "\n",
       "            Exports_%_of_GDP  FDI_Inflows  FDI_%_change  \\\n",
       "date                                                      \n",
       "1991-12-31            8.4942     0.073538        0.0272   \n",
       "1992-12-31            8.8429     0.276512        0.0959   \n",
       "1993-12-31            9.8342     0.550370        0.1971   \n",
       "1994-12-31            9.8881     0.973271        0.2974   \n",
       "1995-12-31           10.8440     2.143628        0.5950   \n",
       "\n",
       "            GDP_in_Billions_of_USD  GDP_per_capita  GDP__Annual_%_Change  \\\n",
       "date                                                                       \n",
       "1991-12-31              270.105342        303.8504                1.0568   \n",
       "1992-12-31              288.208070        317.5587                5.4824   \n",
       "1993-12-31              279.295649        301.5008                4.7508   \n",
       "1994-12-31              327.275583        346.2274                6.6589   \n",
       "1995-12-31              360.281910        373.6282                7.5745   \n",
       "\n",
       "            GDP_Growth_%  GNI_in_Billions_of_USD  ...  GNI_Growth_Rate  \\\n",
       "date                                              ...                    \n",
       "1991-12-31        1.0568              308.580780  ...           0.8649   \n",
       "1992-12-31        5.4824              312.509695  ...           5.4977   \n",
       "1993-12-31        4.7508              300.632783  ...           4.8423   \n",
       "1994-12-31        6.6589              322.746134  ...           6.7921   \n",
       "1995-12-31        7.5745              354.316510  ...           7.7676   \n",
       "\n",
       "            Hunger_stats_%_of_Population  Imports_in_Billions_of_USD  \\\n",
       "date                                                                   \n",
       "1991-12-31                           0.0                   22.941359   \n",
       "1992-12-31                           0.0                   27.639650   \n",
       "1993-12-31                           0.0                   27.419354   \n",
       "1994-12-31                           0.0                   33.349577   \n",
       "1995-12-31                           0.0                   43.318426   \n",
       "\n",
       "            Imports_%_of_GDP  Inflation_Rate_%  \\\n",
       "date                                             \n",
       "1991-12-31            8.4935           13.8702   \n",
       "1992-12-31            9.5902           11.7878   \n",
       "1993-12-31            9.8173            6.3269   \n",
       "1994-12-31           10.1901           10.2479   \n",
       "1995-12-31           12.0235           10.2249   \n",
       "\n",
       "            Life_Expectancy_from_Birth_Years  Percent_Under_Pay  \\\n",
       "date                                                              \n",
       "1991-12-31                            58.148                0.0   \n",
       "1992-12-31                            58.634                0.0   \n",
       "1993-12-31                            59.120               96.7   \n",
       "1994-12-31                            59.590                0.0   \n",
       "1995-12-31                            60.060                0.0   \n",
       "\n",
       "            Tourism_Spending_in_USD  Tourism_%_of_Exports  Trade_%_of_GDP  \n",
       "date                                                                       \n",
       "1991-12-31                        0                   0.0         16.9877  \n",
       "1992-12-31                        0                   0.0         18.4331  \n",
       "1993-12-31                        0                   0.0         19.6515  \n",
       "1994-12-31                        0                   0.0         20.0781  \n",
       "1995-12-31                        0                   0.0         22.8674  \n",
       "\n",
       "[5 rows x 21 columns]"
      ]
     },
     "execution_count": 3,
     "metadata": {},
     "output_type": "execute_result"
    }
   ],
   "source": [
    "df = pd.read_csv('final_dataset.csv', index_col='date', parse_dates=True)\n",
    "df.head()"
   ]
  },
  {
   "cell_type": "code",
   "execution_count": 4,
   "id": "b7505689-f6c9-4250-9108-df0c9023b940",
   "metadata": {},
   "outputs": [],
   "source": [
    "train = df.loc[df.index < '2018-12-31']\n",
    "test  =df.loc[df.index >= '2018-12-31']\n",
    "\n",
    "TARGET = 'Unemployment_Rate_percent'\n",
    "FEATURES = ['Exports_in_Billions_USD',\n",
    "       'Exports_%_of_GDP', 'FDI_Inflows', 'FDI_%_change',\n",
    "       'GDP_in_Billions_of_USD', 'GDP_per_capita', 'GDP__Annual_%_Change',\n",
    "       'GDP_Growth_%', 'GNI_in_Billions_of_USD', 'GNI_Per_Capita',\n",
    "       'GNI_Growth_Rate', 'Hunger_stats_%_of_Population',\n",
    "       'Imports_in_Billions_of_USD', 'Imports_%_of_GDP',\n",
    "       'Inflation_Rate_%', 'Life_Expectancy_from_Birth_Years',\n",
    "       'Percent_Under_Pay', 'Tourism_Spending_in_USD',\n",
    "       'Tourism_%_of_Exports', 'Trade_%_of_GDP']"
   ]
  },
  {
   "cell_type": "code",
   "execution_count": 5,
   "id": "5c3821b6-8473-4e05-a13b-07450bddf752",
   "metadata": {},
   "outputs": [],
   "source": [
    "trn = df['Unemployment_Rate_percent']\n",
    "tst = df['Unemployment_Rate_percent']\n",
    "\n",
    "\n"
   ]
  },
  {
   "cell_type": "code",
   "execution_count": 6,
   "id": "1e351106-bb1d-467d-8233-6510c38e2df0",
   "metadata": {},
   "outputs": [],
   "source": [
    "def df_to_X_y(df, window_size=5):\n",
    "  df_as_np = df.to_numpy()\n",
    "  X = []\n",
    "  y = []\n",
    "  for i in range(len(df_as_np)-window_size):\n",
    "    row = [[a] for a in df_as_np[i:i+window_size]]\n",
    "    X.append(row)\n",
    "    label = df_as_np[i+window_size]\n",
    "    y.append(label)\n",
    "  return np.array(X), np.array(y)"
   ]
  },
  {
   "cell_type": "code",
   "execution_count": 7,
   "id": "f9c4758c-6eb9-4781-82c8-7b5f5c5eb681",
   "metadata": {},
   "outputs": [
    {
     "data": {
      "text/plain": [
       "((28, 4, 1), (28,))"
      ]
     },
     "execution_count": 7,
     "metadata": {},
     "output_type": "execute_result"
    }
   ],
   "source": [
    "WINDOW_SIZE = 4\n",
    "X1, y1 = df_to_X_y(trn, WINDOW_SIZE)\n",
    "X1.shape, y1.shape"
   ]
  },
  {
   "cell_type": "code",
   "execution_count": 8,
   "id": "aea092f4-a5ff-4409-b40f-dde6dd0b96d7",
   "metadata": {},
   "outputs": [
    {
     "data": {
      "text/plain": [
       "((20, 4, 1), (20,), (4, 4, 1), (4,), (4, 4, 1), (4,))"
      ]
     },
     "execution_count": 8,
     "metadata": {},
     "output_type": "execute_result"
    }
   ],
   "source": [
    "X_train1, y_train1 = X1[:20], y1[:20]\n",
    "X_val1, y_val1 = X1[20:24], y1[20:24]\n",
    "X_test1, y_test1 = X1[24:], y1[24:]\n",
    "X_train1.shape, y_train1.shape, X_val1.shape, y_val1.shape, X_test1.shape, y_test1.shape"
   ]
  },
  {
   "cell_type": "code",
   "execution_count": 9,
   "id": "1051ea38-d710-4ff4-82f9-d9aa19e66d52",
   "metadata": {},
   "outputs": [
    {
     "data": {
      "text/html": [
       "<pre style=\"white-space:pre;overflow-x:auto;line-height:normal;font-family:Menlo,'DejaVu Sans Mono',consolas,'Courier New',monospace\"><span style=\"font-weight: bold\">Model: \"sequential\"</span>\n",
       "</pre>\n"
      ],
      "text/plain": [
       "\u001b[1mModel: \"sequential\"\u001b[0m\n"
      ]
     },
     "metadata": {},
     "output_type": "display_data"
    },
    {
     "data": {
      "text/html": [
       "<pre style=\"white-space:pre;overflow-x:auto;line-height:normal;font-family:Menlo,'DejaVu Sans Mono',consolas,'Courier New',monospace\">┏━━━━━━━━━━━━━━━━━━━━━━━━━━━━━━━━━━━━━━┳━━━━━━━━━━━━━━━━━━━━━━━━━━━━━┳━━━━━━━━━━━━━━━━━┓\n",
       "┃<span style=\"font-weight: bold\"> Layer (type)                         </span>┃<span style=\"font-weight: bold\"> Output Shape                </span>┃<span style=\"font-weight: bold\">         Param # </span>┃\n",
       "┡━━━━━━━━━━━━━━━━━━━━━━━━━━━━━━━━━━━━━━╇━━━━━━━━━━━━━━━━━━━━━━━━━━━━━╇━━━━━━━━━━━━━━━━━┩\n",
       "│ bidirectional (<span style=\"color: #0087ff; text-decoration-color: #0087ff\">Bidirectional</span>)        │ (<span style=\"color: #00d7ff; text-decoration-color: #00d7ff\">None</span>, <span style=\"color: #00af00; text-decoration-color: #00af00\">4</span>, <span style=\"color: #00af00; text-decoration-color: #00af00\">300</span>)              │         <span style=\"color: #00af00; text-decoration-color: #00af00\">182,400</span> │\n",
       "├──────────────────────────────────────┼─────────────────────────────┼─────────────────┤\n",
       "│ dropout (<span style=\"color: #0087ff; text-decoration-color: #0087ff\">Dropout</span>)                    │ (<span style=\"color: #00d7ff; text-decoration-color: #00d7ff\">None</span>, <span style=\"color: #00af00; text-decoration-color: #00af00\">4</span>, <span style=\"color: #00af00; text-decoration-color: #00af00\">300</span>)              │               <span style=\"color: #00af00; text-decoration-color: #00af00\">0</span> │\n",
       "├──────────────────────────────────────┼─────────────────────────────┼─────────────────┤\n",
       "│ lstm_1 (<span style=\"color: #0087ff; text-decoration-color: #0087ff\">LSTM</span>)                        │ (<span style=\"color: #00d7ff; text-decoration-color: #00d7ff\">None</span>, <span style=\"color: #00af00; text-decoration-color: #00af00\">100</span>)                 │         <span style=\"color: #00af00; text-decoration-color: #00af00\">160,400</span> │\n",
       "├──────────────────────────────────────┼─────────────────────────────┼─────────────────┤\n",
       "│ dense (<span style=\"color: #0087ff; text-decoration-color: #0087ff\">Dense</span>)                        │ (<span style=\"color: #00d7ff; text-decoration-color: #00d7ff\">None</span>, <span style=\"color: #00af00; text-decoration-color: #00af00\">16</span>)                  │           <span style=\"color: #00af00; text-decoration-color: #00af00\">1,616</span> │\n",
       "├──────────────────────────────────────┼─────────────────────────────┼─────────────────┤\n",
       "│ dense_1 (<span style=\"color: #0087ff; text-decoration-color: #0087ff\">Dense</span>)                      │ (<span style=\"color: #00d7ff; text-decoration-color: #00d7ff\">None</span>, <span style=\"color: #00af00; text-decoration-color: #00af00\">8</span>)                   │             <span style=\"color: #00af00; text-decoration-color: #00af00\">136</span> │\n",
       "├──────────────────────────────────────┼─────────────────────────────┼─────────────────┤\n",
       "│ dense_2 (<span style=\"color: #0087ff; text-decoration-color: #0087ff\">Dense</span>)                      │ (<span style=\"color: #00d7ff; text-decoration-color: #00d7ff\">None</span>, <span style=\"color: #00af00; text-decoration-color: #00af00\">1</span>)                   │               <span style=\"color: #00af00; text-decoration-color: #00af00\">9</span> │\n",
       "└──────────────────────────────────────┴─────────────────────────────┴─────────────────┘\n",
       "</pre>\n"
      ],
      "text/plain": [
       "┏━━━━━━━━━━━━━━━━━━━━━━━━━━━━━━━━━━━━━━┳━━━━━━━━━━━━━━━━━━━━━━━━━━━━━┳━━━━━━━━━━━━━━━━━┓\n",
       "┃\u001b[1m \u001b[0m\u001b[1mLayer (type)                        \u001b[0m\u001b[1m \u001b[0m┃\u001b[1m \u001b[0m\u001b[1mOutput Shape               \u001b[0m\u001b[1m \u001b[0m┃\u001b[1m \u001b[0m\u001b[1m        Param #\u001b[0m\u001b[1m \u001b[0m┃\n",
       "┡━━━━━━━━━━━━━━━━━━━━━━━━━━━━━━━━━━━━━━╇━━━━━━━━━━━━━━━━━━━━━━━━━━━━━╇━━━━━━━━━━━━━━━━━┩\n",
       "│ bidirectional (\u001b[38;5;33mBidirectional\u001b[0m)        │ (\u001b[38;5;45mNone\u001b[0m, \u001b[38;5;34m4\u001b[0m, \u001b[38;5;34m300\u001b[0m)              │         \u001b[38;5;34m182,400\u001b[0m │\n",
       "├──────────────────────────────────────┼─────────────────────────────┼─────────────────┤\n",
       "│ dropout (\u001b[38;5;33mDropout\u001b[0m)                    │ (\u001b[38;5;45mNone\u001b[0m, \u001b[38;5;34m4\u001b[0m, \u001b[38;5;34m300\u001b[0m)              │               \u001b[38;5;34m0\u001b[0m │\n",
       "├──────────────────────────────────────┼─────────────────────────────┼─────────────────┤\n",
       "│ lstm_1 (\u001b[38;5;33mLSTM\u001b[0m)                        │ (\u001b[38;5;45mNone\u001b[0m, \u001b[38;5;34m100\u001b[0m)                 │         \u001b[38;5;34m160,400\u001b[0m │\n",
       "├──────────────────────────────────────┼─────────────────────────────┼─────────────────┤\n",
       "│ dense (\u001b[38;5;33mDense\u001b[0m)                        │ (\u001b[38;5;45mNone\u001b[0m, \u001b[38;5;34m16\u001b[0m)                  │           \u001b[38;5;34m1,616\u001b[0m │\n",
       "├──────────────────────────────────────┼─────────────────────────────┼─────────────────┤\n",
       "│ dense_1 (\u001b[38;5;33mDense\u001b[0m)                      │ (\u001b[38;5;45mNone\u001b[0m, \u001b[38;5;34m8\u001b[0m)                   │             \u001b[38;5;34m136\u001b[0m │\n",
       "├──────────────────────────────────────┼─────────────────────────────┼─────────────────┤\n",
       "│ dense_2 (\u001b[38;5;33mDense\u001b[0m)                      │ (\u001b[38;5;45mNone\u001b[0m, \u001b[38;5;34m1\u001b[0m)                   │               \u001b[38;5;34m9\u001b[0m │\n",
       "└──────────────────────────────────────┴─────────────────────────────┴─────────────────┘\n"
      ]
     },
     "metadata": {},
     "output_type": "display_data"
    },
    {
     "data": {
      "text/html": [
       "<pre style=\"white-space:pre;overflow-x:auto;line-height:normal;font-family:Menlo,'DejaVu Sans Mono',consolas,'Courier New',monospace\"><span style=\"font-weight: bold\"> Total params: </span><span style=\"color: #00af00; text-decoration-color: #00af00\">344,561</span> (1.31 MB)\n",
       "</pre>\n"
      ],
      "text/plain": [
       "\u001b[1m Total params: \u001b[0m\u001b[38;5;34m344,561\u001b[0m (1.31 MB)\n"
      ]
     },
     "metadata": {},
     "output_type": "display_data"
    },
    {
     "data": {
      "text/html": [
       "<pre style=\"white-space:pre;overflow-x:auto;line-height:normal;font-family:Menlo,'DejaVu Sans Mono',consolas,'Courier New',monospace\"><span style=\"font-weight: bold\"> Trainable params: </span><span style=\"color: #00af00; text-decoration-color: #00af00\">344,561</span> (1.31 MB)\n",
       "</pre>\n"
      ],
      "text/plain": [
       "\u001b[1m Trainable params: \u001b[0m\u001b[38;5;34m344,561\u001b[0m (1.31 MB)\n"
      ]
     },
     "metadata": {},
     "output_type": "display_data"
    },
    {
     "data": {
      "text/html": [
       "<pre style=\"white-space:pre;overflow-x:auto;line-height:normal;font-family:Menlo,'DejaVu Sans Mono',consolas,'Courier New',monospace\"><span style=\"font-weight: bold\"> Non-trainable params: </span><span style=\"color: #00af00; text-decoration-color: #00af00\">0</span> (0.00 B)\n",
       "</pre>\n"
      ],
      "text/plain": [
       "\u001b[1m Non-trainable params: \u001b[0m\u001b[38;5;34m0\u001b[0m (0.00 B)\n"
      ]
     },
     "metadata": {},
     "output_type": "display_data"
    }
   ],
   "source": [
    "model = Sequential()\n",
    "model.add(InputLayer((4, 1)))\n",
    "model.add(Bidirectional(LSTM(150, return_sequences=True)))\n",
    "model.add(Dropout(0.2)) \n",
    "model.add(Bidirectional(LSTM(100, 'relu')))\n",
    "model.add(LSTM(64, 'relu'))\n",
    "model.add(Dense(16, 'relu'))\n",
    "model.add(Dense(8, 'relu'))\n",
    "model.add(Dense(1, 'relu'))\n",
    "\n",
    "model.summary()"
   ]
  },
  {
   "cell_type": "code",
   "execution_count": 10,
   "id": "b58bd5bd-aaa1-4740-a4d0-52ec5945a71b",
   "metadata": {},
   "outputs": [
    {
     "data": {
      "text/plain": [
       "<keras.src.callbacks.history.History at 0x2690e636450>"
      ]
     },
     "execution_count": 10,
     "metadata": {},
     "output_type": "execute_result"
    }
   ],
   "source": [
    "cp1 = ModelCheckpoint('model.keras',save_best_only=True)\n",
    "model.compile(loss=MeanSquaredError(), optimizer=Adam(learning_rate=0.001), metrics=[RootMeanSquaredError()])\n",
    "model.fit(X_train1, y_train1, validation_data=(X_val1, y_val1), epochs=500, verbose=0, callbacks=cp1)"
   ]
  },
  {
   "cell_type": "code",
   "execution_count": 11,
   "id": "d8fe9604-9c0c-4c21-810e-74aee636e6bd",
   "metadata": {},
   "outputs": [],
   "source": [
    "model = load_model('model.keras')"
   ]
  },
  {
   "cell_type": "code",
   "execution_count": 12,
   "id": "8e398bb7-17f0-484d-9895-b348c2870e4d",
   "metadata": {},
   "outputs": [
    {
     "name": "stdout",
     "output_type": "stream",
     "text": [
      "\u001b[1m1/1\u001b[0m \u001b[32m━━━━━━━━━━━━━━━━━━━━\u001b[0m\u001b[37m\u001b[0m \u001b[1m0s\u001b[0m 331ms/step\n"
     ]
    },
    {
     "data": {
      "text/html": [
       "<div>\n",
       "<style scoped>\n",
       "    .dataframe tbody tr th:only-of-type {\n",
       "        vertical-align: middle;\n",
       "    }\n",
       "\n",
       "    .dataframe tbody tr th {\n",
       "        vertical-align: top;\n",
       "    }\n",
       "\n",
       "    .dataframe thead th {\n",
       "        text-align: right;\n",
       "    }\n",
       "</style>\n",
       "<table border=\"1\" class=\"dataframe\">\n",
       "  <thead>\n",
       "    <tr style=\"text-align: right;\">\n",
       "      <th></th>\n",
       "      <th>Train_Predictions</th>\n",
       "      <th>Actuals</th>\n",
       "    </tr>\n",
       "  </thead>\n",
       "  <tbody>\n",
       "    <tr>\n",
       "      <th>0</th>\n",
       "      <td>7.711502</td>\n",
       "      <td>6.998</td>\n",
       "    </tr>\n",
       "    <tr>\n",
       "      <th>1</th>\n",
       "      <td>7.716992</td>\n",
       "      <td>7.165</td>\n",
       "    </tr>\n",
       "    <tr>\n",
       "      <th>2</th>\n",
       "      <td>7.725018</td>\n",
       "      <td>7.339</td>\n",
       "    </tr>\n",
       "    <tr>\n",
       "      <th>3</th>\n",
       "      <td>7.736109</td>\n",
       "      <td>7.511</td>\n",
       "    </tr>\n",
       "    <tr>\n",
       "      <th>4</th>\n",
       "      <td>7.751200</td>\n",
       "      <td>7.680</td>\n",
       "    </tr>\n",
       "    <tr>\n",
       "      <th>5</th>\n",
       "      <td>7.765458</td>\n",
       "      <td>7.850</td>\n",
       "    </tr>\n",
       "    <tr>\n",
       "      <th>6</th>\n",
       "      <td>7.779067</td>\n",
       "      <td>8.022</td>\n",
       "    </tr>\n",
       "    <tr>\n",
       "      <th>7</th>\n",
       "      <td>7.791942</td>\n",
       "      <td>8.202</td>\n",
       "    </tr>\n",
       "    <tr>\n",
       "      <th>8</th>\n",
       "      <td>7.804328</td>\n",
       "      <td>8.368</td>\n",
       "    </tr>\n",
       "    <tr>\n",
       "      <th>9</th>\n",
       "      <td>7.815867</td>\n",
       "      <td>8.535</td>\n",
       "    </tr>\n",
       "    <tr>\n",
       "      <th>10</th>\n",
       "      <td>7.826851</td>\n",
       "      <td>8.700</td>\n",
       "    </tr>\n",
       "    <tr>\n",
       "      <th>11</th>\n",
       "      <td>7.837231</td>\n",
       "      <td>8.618</td>\n",
       "    </tr>\n",
       "    <tr>\n",
       "      <th>12</th>\n",
       "      <td>7.841411</td>\n",
       "      <td>8.537</td>\n",
       "    </tr>\n",
       "    <tr>\n",
       "      <th>13</th>\n",
       "      <td>7.843340</td>\n",
       "      <td>8.463</td>\n",
       "    </tr>\n",
       "    <tr>\n",
       "      <th>14</th>\n",
       "      <td>7.842733</td>\n",
       "      <td>8.383</td>\n",
       "    </tr>\n",
       "    <tr>\n",
       "      <th>15</th>\n",
       "      <td>7.838098</td>\n",
       "      <td>8.300</td>\n",
       "    </tr>\n",
       "    <tr>\n",
       "      <th>16</th>\n",
       "      <td>7.833326</td>\n",
       "      <td>8.215</td>\n",
       "    </tr>\n",
       "    <tr>\n",
       "      <th>17</th>\n",
       "      <td>7.828417</td>\n",
       "      <td>8.138</td>\n",
       "    </tr>\n",
       "    <tr>\n",
       "      <th>18</th>\n",
       "      <td>7.823431</td>\n",
       "      <td>8.060</td>\n",
       "    </tr>\n",
       "    <tr>\n",
       "      <th>19</th>\n",
       "      <td>7.818301</td>\n",
       "      <td>7.976</td>\n",
       "    </tr>\n",
       "  </tbody>\n",
       "</table>\n",
       "</div>"
      ],
      "text/plain": [
       "    Train_Predictions  Actuals\n",
       "0            7.711502    6.998\n",
       "1            7.716992    7.165\n",
       "2            7.725018    7.339\n",
       "3            7.736109    7.511\n",
       "4            7.751200    7.680\n",
       "5            7.765458    7.850\n",
       "6            7.779067    8.022\n",
       "7            7.791942    8.202\n",
       "8            7.804328    8.368\n",
       "9            7.815867    8.535\n",
       "10           7.826851    8.700\n",
       "11           7.837231    8.618\n",
       "12           7.841411    8.537\n",
       "13           7.843340    8.463\n",
       "14           7.842733    8.383\n",
       "15           7.838098    8.300\n",
       "16           7.833326    8.215\n",
       "17           7.828417    8.138\n",
       "18           7.823431    8.060\n",
       "19           7.818301    7.976"
      ]
     },
     "execution_count": 12,
     "metadata": {},
     "output_type": "execute_result"
    }
   ],
   "source": [
    "train_predictions = model.predict(X_train1).flatten()\n",
    "train_results = pd.DataFrame(data={'Train_Predictions':train_predictions, 'Actuals':y_train1})\n",
    "train_results"
   ]
  },
  {
   "cell_type": "code",
   "execution_count": 13,
   "id": "8d687455-ca83-4460-be87-e8b37ecf335f",
   "metadata": {},
   "outputs": [
    {
     "data": {
      "image/png": "[encoded data removed]",
      "text/plain": [
       "<Figure size 1500x500 with 1 Axes>"
      ]
     },
     "metadata": {},
     "output_type": "display_data"
    }
   ],
   "source": [
    "ax = train_results[['Actuals']].plot(figsize=(15, 5))\n",
    "train_results['Train_Predictions'].plot(ax=ax, style='-')\n",
    "plt.legend(['True Data', 'Predictions'])\n",
    "ax.set_title('Raw Dat and Prediction')\n",
    "plt.show()"
   ]
  },
  {
   "cell_type": "code",
   "execution_count": 14,
   "id": "e45c4462-6c27-44b6-aabd-1e891faae3ac",
   "metadata": {},
   "outputs": [
    {
     "name": "stdout",
     "output_type": "stream",
     "text": [
      "Mean value of ULC is : 8.053. \n",
      "Root Mean Squared Error is :0.507697122124608\n"
     ]
    }
   ],
   "source": [
    "rmse=math.sqrt(mean_squared_error(train_results['Train_Predictions'],train_results['Actuals']))\n",
    "print('Mean value of ULC is : {}. \\nRoot Mean Squared Error is :{}'.format(mean(train_results['Actuals']),rmse))"
   ]
  },
  {
   "cell_type": "code",
   "execution_count": 15,
   "id": "4d6cf040-e2b8-42d5-9eb4-f87320a577c1",
   "metadata": {},
   "outputs": [
    {
     "name": "stdout",
     "output_type": "stream",
     "text": [
      "\u001b[1m1/1\u001b[0m \u001b[32m━━━━━━━━━━━━━━━━━━━━\u001b[0m\u001b[37m\u001b[0m \u001b[1m0s\u001b[0m 373ms/step\n"
     ]
    },
    {
     "data": {
      "text/html": [
       "<div>\n",
       "<style scoped>\n",
       "    .dataframe tbody tr th:only-of-type {\n",
       "        vertical-align: middle;\n",
       "    }\n",
       "\n",
       "    .dataframe tbody tr th {\n",
       "        vertical-align: top;\n",
       "    }\n",
       "\n",
       "    .dataframe thead th {\n",
       "        text-align: right;\n",
       "    }\n",
       "</style>\n",
       "<table border=\"1\" class=\"dataframe\">\n",
       "  <thead>\n",
       "    <tr style=\"text-align: right;\">\n",
       "      <th></th>\n",
       "      <th>Val_Predictions</th>\n",
       "      <th>Actuals</th>\n",
       "    </tr>\n",
       "  </thead>\n",
       "  <tbody>\n",
       "    <tr>\n",
       "      <th>0</th>\n",
       "      <td>7.812945</td>\n",
       "      <td>7.891</td>\n",
       "    </tr>\n",
       "    <tr>\n",
       "      <th>1</th>\n",
       "      <td>7.807510</td>\n",
       "      <td>7.808</td>\n",
       "    </tr>\n",
       "    <tr>\n",
       "      <th>2</th>\n",
       "      <td>7.801884</td>\n",
       "      <td>7.728</td>\n",
       "    </tr>\n",
       "    <tr>\n",
       "      <th>3</th>\n",
       "      <td>7.796085</td>\n",
       "      <td>7.650</td>\n",
       "    </tr>\n",
       "  </tbody>\n",
       "</table>\n",
       "</div>"
      ],
      "text/plain": [
       "   Val_Predictions  Actuals\n",
       "0         7.812945    7.891\n",
       "1         7.807510    7.808\n",
       "2         7.801884    7.728\n",
       "3         7.796085    7.650"
      ]
     },
     "execution_count": 15,
     "metadata": {},
     "output_type": "execute_result"
    }
   ],
   "source": [
    "val_predictions = model.predict(X_val1).flatten()\n",
    "val_results = pd.DataFrame(data={'Val_Predictions':val_predictions, 'Actuals':y_val1})\n",
    "val_results"
   ]
  },
  {
   "cell_type": "code",
   "execution_count": 16,
   "id": "12709020-1cef-49e8-bb76-17f78041a562",
   "metadata": {},
   "outputs": [
    {
     "data": {
      "image/png": "[encoded data removed]",
      "text/plain": [
       "<Figure size 1500x500 with 1 Axes>"
      ]
     },
     "metadata": {},
     "output_type": "display_data"
    }
   ],
   "source": [
    "ax = val_results[['Actuals']].plot(figsize=(15, 5))\n",
    "val_results['Val_Predictions'].plot(ax=ax, style='-')\n",
    "plt.legend(['True Data', 'Predictions'])\n",
    "ax.set_title('Raw Dat and Prediction')\n",
    "plt.show()"
   ]
  },
  {
   "cell_type": "code",
   "execution_count": 17,
   "id": "29a6c154-60fa-4cce-aaee-55a1509f1161",
   "metadata": {},
   "outputs": [
    {
     "name": "stdout",
     "output_type": "stream",
     "text": [
      "Mean value of ULC is : 7.7692499999999995. \n",
      "Root Mean Squared Error is :0.0906814459861569\n"
     ]
    }
   ],
   "source": [
    "rmse=math.sqrt(mean_squared_error(val_results['Val_Predictions'],val_results['Actuals']))\n",
    "print('Mean value of ULC is : {}. \\nRoot Mean Squared Error is :{}'.format(mean(val_results['Actuals']),rmse))"
   ]
  },
  {
   "cell_type": "code",
   "execution_count": 18,
   "id": "c3b45c25-08d3-49f1-86e1-596704328353",
   "metadata": {},
   "outputs": [
    {
     "name": "stdout",
     "output_type": "stream",
     "text": [
      "\u001b[1m1/1\u001b[0m \u001b[32m━━━━━━━━━━━━━━━━━━━━\u001b[0m\u001b[37m\u001b[0m \u001b[1m0s\u001b[0m 17ms/step\n"
     ]
    },
    {
     "data": {
      "text/html": [
       "<div>\n",
       "<style scoped>\n",
       "    .dataframe tbody tr th:only-of-type {\n",
       "        vertical-align: middle;\n",
       "    }\n",
       "\n",
       "    .dataframe tbody tr th {\n",
       "        vertical-align: top;\n",
       "    }\n",
       "\n",
       "    .dataframe thead th {\n",
       "        text-align: right;\n",
       "    }\n",
       "</style>\n",
       "<table border=\"1\" class=\"dataframe\">\n",
       "  <thead>\n",
       "    <tr style=\"text-align: right;\">\n",
       "      <th></th>\n",
       "      <th>Test_Predictions</th>\n",
       "      <th>Actuals</th>\n",
       "    </tr>\n",
       "  </thead>\n",
       "  <tbody>\n",
       "    <tr>\n",
       "      <th>0</th>\n",
       "      <td>7.790238</td>\n",
       "      <td>6.510</td>\n",
       "    </tr>\n",
       "    <tr>\n",
       "      <th>1</th>\n",
       "      <td>7.752769</td>\n",
       "      <td>7.860</td>\n",
       "    </tr>\n",
       "    <tr>\n",
       "      <th>2</th>\n",
       "      <td>7.774692</td>\n",
       "      <td>6.380</td>\n",
       "    </tr>\n",
       "    <tr>\n",
       "      <th>3</th>\n",
       "      <td>7.726925</td>\n",
       "      <td>4.822</td>\n",
       "    </tr>\n",
       "  </tbody>\n",
       "</table>\n",
       "</div>"
      ],
      "text/plain": [
       "   Test_Predictions  Actuals\n",
       "0          7.790238    6.510\n",
       "1          7.752769    7.860\n",
       "2          7.774692    6.380\n",
       "3          7.726925    4.822"
      ]
     },
     "execution_count": 18,
     "metadata": {},
     "output_type": "execute_result"
    }
   ],
   "source": [
    "test_predictions = model.predict(X_test1).flatten()\n",
    "test_results = pd.DataFrame(data={'Test_Predictions':test_predictions, 'Actuals':y_test1})\n",
    "test_results"
   ]
  },
  {
   "cell_type": "code",
   "execution_count": 19,
   "id": "a28a4280-ac89-478a-a5ae-cc9d15b6f144",
   "metadata": {},
   "outputs": [
    {
     "data": {
      "image/png": "[encoded data removed]",
      "text/plain": [
       "<Figure size 1500x500 with 1 Axes>"
      ]
     },
     "metadata": {},
     "output_type": "display_data"
    }
   ],
   "source": [
    "ax = test_results[['Actuals']].plot(figsize=(15, 5))\n",
    "test_results['Test_Predictions'].plot(ax=ax, style='-')\n",
    "plt.legend(['True Data', 'Predictions'])\n",
    "ax.set_title('Raw Dat and Prediction')\n",
    "plt.show()"
   ]
  },
  {
   "cell_type": "code",
   "execution_count": 20,
   "id": "a9a59b5e-f5e0-40b6-bd06-cf4444075911",
   "metadata": {},
   "outputs": [
    {
     "name": "stdout",
     "output_type": "stream",
     "text": [
      "Mean value of ULC is : 6.393. \n",
      "Root Mean Squared Error is :1.7345218006417258\n"
     ]
    }
   ],
   "source": [
    "rmse=math.sqrt(mean_squared_error(test_results['Test_Predictions'],test_results['Actuals']))\n",
    "print('Mean value of ULC is : {}. \\nRoot Mean Squared Error is :{}'.format(mean(test_results['Actuals']),rmse))"
   ]
  },
  {
   "cell_type": "code",
   "execution_count": null,
   "id": "4cb71a5f-dc7e-48d3-b1de-5cc8d32735a7",
   "metadata": {},
   "outputs": [],
   "source": []
  },
  {
   "cell_type": "code",
   "execution_count": null,
   "id": "ab4c4539-bc2e-48b7-a25f-4bd44e6250ac",
   "metadata": {},
   "outputs": [],
   "source": []
  },
  {
   "cell_type": "code",
   "execution_count": null,
   "id": "f48e335b-60bb-465f-ac58-4cadd9097b25",
   "metadata": {},
   "outputs": [],
   "source": []
  },
  {
   "cell_type": "code",
   "execution_count": null,
   "id": "9c9398db-8610-478d-8d62-300cfd38dfd0",
   "metadata": {},
   "outputs": [],
   "source": []
  },
  {
   "cell_type": "code",
   "execution_count": null,
   "id": "c2706101-523c-46ff-8388-a6b06eb20703",
   "metadata": {},
   "outputs": [],
   "source": []
  },
  {
   "cell_type": "code",
   "execution_count": null,
   "id": "cd754f95-b798-46a0-9a63-e496a67dd1c0",
   "metadata": {},
   "outputs": [],
   "source": []
  },
  {
   "cell_type": "code",
   "execution_count": null,
   "id": "f420d54e-fd8e-47aa-85a8-47ae8604e38b",
   "metadata": {},
   "outputs": [],
   "source": []
  },
  {
   "cell_type": "code",
   "execution_count": null,
   "id": "c213401e-fcbc-431d-b074-3fe4ab5ce4e0",
   "metadata": {},
   "outputs": [],
   "source": []
  },
  {
   "cell_type": "code",
   "execution_count": null,
   "id": "e766f24a-5689-4c78-863f-291a64ec8ff2",
   "metadata": {},
   "outputs": [],
   "source": []
  },
  {
   "cell_type": "code",
   "execution_count": null,
   "id": "d7258721-c642-40d8-9e16-87f74f917245",
   "metadata": {},
   "outputs": [],
   "source": []
  },
  {
   "cell_type": "code",
   "execution_count": null,
   "id": "314233ee-26ab-4e6b-b489-55c8c00ac7b9",
   "metadata": {},
   "outputs": [],
   "source": []
  },
  {
   "cell_type": "code",
   "execution_count": null,
   "id": "3e10fb94-8ffa-413e-b0fe-37c0e8313c98",
   "metadata": {},
   "outputs": [],
   "source": []
  },
  {
   "cell_type": "code",
   "execution_count": null,
   "id": "a6c2fbb9-db0c-4f3c-a0c8-5e7f1f8ee494",
   "metadata": {},
   "outputs": [],
   "source": []
  },
  {
   "cell_type": "code",
   "execution_count": null,
   "id": "bb0e4f71-6439-40c3-8a27-ad8947b57c39",
   "metadata": {},
   "outputs": [],
   "source": []
  },
  {
   "cell_type": "code",
   "execution_count": null,
   "id": "37f23ab7-59ed-4754-8eaf-2d72c5db5171",
   "metadata": {},
   "outputs": [],
   "source": []
  },
  {
   "cell_type": "code",
   "execution_count": null,
   "id": "49ed0357-bcef-41b6-b958-4d98bda7b9ed",
   "metadata": {},
   "outputs": [],
   "source": []
  },
  {
   "cell_type": "code",
   "execution_count": null,
   "id": "7079514a-5bfe-4fff-a4b2-1369bef92412",
   "metadata": {},
   "outputs": [],
   "source": []
  },
  {
   "cell_type": "code",
   "execution_count": null,
   "id": "0c199aee-e95b-402a-becd-79f27363bb69",
   "metadata": {},
   "outputs": [],
   "source": []
  },
  {
   "cell_type": "code",
   "execution_count": null,
   "id": "f215f96a-e0b5-4988-95ad-884a4f989242",
   "metadata": {},
   "outputs": [],
   "source": []
  },
  {
   "cell_type": "code",
   "execution_count": null,
   "id": "8ef312e4-0e46-468b-9040-a3d098392215",
   "metadata": {},
   "outputs": [],
   "source": []
  },
  {
   "cell_type": "code",
   "execution_count": null,
   "id": "3952abe0-aa48-4e41-b1f9-8b0b597c8dbc",
   "metadata": {},
   "outputs": [],
   "source": []
  },
  {
   "cell_type": "code",
   "execution_count": null,
   "id": "7e22c890-33cd-4a52-a997-95e26320dcc2",
   "metadata": {},
   "outputs": [],
   "source": []
  },
  {
   "cell_type": "code",
   "execution_count": null,
   "id": "8bbe2b53-947a-455f-bf21-d0c348b844b9",
   "metadata": {},
   "outputs": [],
   "source": []
  },
  {
   "cell_type": "code",
   "execution_count": null,
   "id": "9bb77f4c-9dc3-4045-9e5c-62aacef46b06",
   "metadata": {},
   "outputs": [],
   "source": []
  },
  {
   "cell_type": "code",
   "execution_count": null,
   "id": "b04c549d-113a-4056-b8ae-49d9d383953c",
   "metadata": {},
   "outputs": [],
   "source": []
  },
  {
   "cell_type": "code",
   "execution_count": null,
   "id": "377883a2-b294-4fd1-845a-4bb16850c617",
   "metadata": {},
   "outputs": [],
   "source": []
  },
  {
   "cell_type": "code",
   "execution_count": null,
   "id": "b1cd0476-9bf6-4c06-974e-2a326c50c62f",
   "metadata": {},
   "outputs": [],
   "source": []
  },
  {
   "cell_type": "code",
   "execution_count": null,
   "id": "3448d074-210d-4d5e-854f-3cafb4236859",
   "metadata": {},
   "outputs": [],
   "source": []
  },
  {
   "cell_type": "code",
   "execution_count": null,
   "id": "a74cc4b2-82f6-4ebf-a364-9dfaa5b94d54",
   "metadata": {},
   "outputs": [],
   "source": []
  },
  {
   "cell_type": "code",
   "execution_count": null,
   "id": "2bb17e2d-3d5e-46df-b3c9-d87c18e798d9",
   "metadata": {},
   "outputs": [],
   "source": []
  },
  {
   "cell_type": "code",
   "execution_count": null,
   "id": "e802c327-b0ec-4ef7-93ad-ab7d6db20ef9",
   "metadata": {},
   "outputs": [],
   "source": []
  },
  {
   "cell_type": "code",
   "execution_count": null,
   "id": "e319a29f-35c6-477b-a2f6-a843e34ee297",
   "metadata": {},
   "outputs": [],
   "source": []
  },
  {
   "cell_type": "code",
   "execution_count": null,
   "id": "71b9668b-6e74-45d3-b0c4-2f4192d3d6fd",
   "metadata": {},
   "outputs": [],
   "source": []
  },
  {
   "cell_type": "code",
   "execution_count": null,
   "id": "5bb7a58a-358b-4352-83f3-768054b808be",
   "metadata": {},
   "outputs": [],
   "source": []
  },
  {
   "cell_type": "code",
   "execution_count": null,
   "id": "e22ca68a-4792-420b-ab0d-c1b30dde53ad",
   "metadata": {},
   "outputs": [],
   "source": []
  }
 ],
 "metadata": {
  "kernelspec": {
   "display_name": "Python 3 (ipykernel)",
   "language": "python",
   "name": "python3"
  },
  "language_info": {
   "codemirror_mode": {
    "name": "ipython",
    "version": 3
   },
   "file_extension": ".py",
   "mimetype": "text/x-python",
   "name": "python",
   "nbconvert_exporter": "python",
   "pygments_lexer": "ipython3",
   "version": "3.11.9"
  }
 },
 "nbformat": 4,
 "nbformat_minor": 5
}
